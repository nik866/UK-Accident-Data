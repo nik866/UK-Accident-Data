{
 "cells": [
  {
   "cell_type": "code",
   "execution_count": 1,
   "id": "cfd68c3f",
   "metadata": {},
   "outputs": [],
   "source": [
    "import os\n",
    "import numpy as np\n",
    "import pandas as pd"
   ]
  },
  {
   "cell_type": "code",
   "execution_count": 2,
   "id": "25ea072c",
   "metadata": {},
   "outputs": [],
   "source": [
    "import seaborn as sns\n",
    "import matplotlib.pyplot as plt\n",
    "%matplotlib inline"
   ]
  },
  {
   "cell_type": "code",
   "execution_count": 3,
   "id": "34fc1279",
   "metadata": {},
   "outputs": [],
   "source": [
    "import string"
   ]
  },
  {
   "cell_type": "code",
   "execution_count": 4,
   "id": "8cec4672",
   "metadata": {},
   "outputs": [],
   "source": [
    "df = pd.read_csv('D:\\\\Excel data\\\\uk_accident_dataset.csv')"
   ]
  },
  {
   "cell_type": "code",
   "execution_count": 5,
   "id": "73b10f2a",
   "metadata": {},
   "outputs": [
    {
     "data": {
      "text/html": [
       "<div>\n",
       "<style scoped>\n",
       "    .dataframe tbody tr th:only-of-type {\n",
       "        vertical-align: middle;\n",
       "    }\n",
       "\n",
       "    .dataframe tbody tr th {\n",
       "        vertical-align: top;\n",
       "    }\n",
       "\n",
       "    .dataframe thead th {\n",
       "        text-align: right;\n",
       "    }\n",
       "</style>\n",
       "<table border=\"1\" class=\"dataframe\">\n",
       "  <thead>\n",
       "    <tr style=\"text-align: right;\">\n",
       "      <th></th>\n",
       "      <th>Accident_ID</th>\n",
       "      <th>Police_Force</th>\n",
       "      <th>Number_of_Vehicles</th>\n",
       "      <th>Number_of_Casualties</th>\n",
       "      <th>Date</th>\n",
       "      <th>Day_of_Week</th>\n",
       "      <th>Time</th>\n",
       "      <th>Local_Authority_(District)</th>\n",
       "      <th>Local_Authority_(Highway)</th>\n",
       "      <th>1st_Road_Class</th>\n",
       "      <th>...</th>\n",
       "      <th>Light_Conditions</th>\n",
       "      <th>Weather_Conditions</th>\n",
       "      <th>Road_Surface_Conditions</th>\n",
       "      <th>Special_Conditions_at_Site</th>\n",
       "      <th>Carriageway_Hazards</th>\n",
       "      <th>Urban_or_Rural_Area</th>\n",
       "      <th>Did_Police_Officer_Attend_Scene_of_Accident</th>\n",
       "      <th>state</th>\n",
       "      <th>postcode</th>\n",
       "      <th>country</th>\n",
       "    </tr>\n",
       "  </thead>\n",
       "  <tbody>\n",
       "    <tr>\n",
       "      <th>0</th>\n",
       "      <td>1</td>\n",
       "      <td>34</td>\n",
       "      <td>2</td>\n",
       "      <td>1</td>\n",
       "      <td>19/12/12</td>\n",
       "      <td>7</td>\n",
       "      <td>13:20</td>\n",
       "      <td>344</td>\n",
       "      <td>E10000032</td>\n",
       "      <td>4</td>\n",
       "      <td>...</td>\n",
       "      <td>Daylight: Street light present</td>\n",
       "      <td>Fine without high winds</td>\n",
       "      <td>Dry</td>\n",
       "      <td>Ol or diesel</td>\n",
       "      <td>None</td>\n",
       "      <td>1</td>\n",
       "      <td>Yes</td>\n",
       "      <td>England</td>\n",
       "      <td>OX3 9UP</td>\n",
       "      <td>United Kingdom</td>\n",
       "    </tr>\n",
       "    <tr>\n",
       "      <th>1</th>\n",
       "      <td>2</td>\n",
       "      <td>5</td>\n",
       "      <td>2</td>\n",
       "      <td>1</td>\n",
       "      <td>02/11/12</td>\n",
       "      <td>4</td>\n",
       "      <td>7:53</td>\n",
       "      <td>102</td>\n",
       "      <td>E09000026</td>\n",
       "      <td>3</td>\n",
       "      <td>...</td>\n",
       "      <td>Daylight: Street light present</td>\n",
       "      <td>Raining without high winds</td>\n",
       "      <td>Dry</td>\n",
       "      <td>None</td>\n",
       "      <td>None</td>\n",
       "      <td>1</td>\n",
       "      <td>No</td>\n",
       "      <td>England</td>\n",
       "      <td>S35 4EZ</td>\n",
       "      <td>United Kingdom</td>\n",
       "    </tr>\n",
       "    <tr>\n",
       "      <th>2</th>\n",
       "      <td>3</td>\n",
       "      <td>1</td>\n",
       "      <td>2</td>\n",
       "      <td>1</td>\n",
       "      <td>02/11/12</td>\n",
       "      <td>4</td>\n",
       "      <td>16:00</td>\n",
       "      <td>531</td>\n",
       "      <td>E10000016</td>\n",
       "      <td>6</td>\n",
       "      <td>...</td>\n",
       "      <td>Daylight: Street light present</td>\n",
       "      <td>Fine without high winds</td>\n",
       "      <td>Dry</td>\n",
       "      <td>None</td>\n",
       "      <td>None</td>\n",
       "      <td>1</td>\n",
       "      <td>No</td>\n",
       "      <td>England</td>\n",
       "      <td>BN21 2XR</td>\n",
       "      <td>United Kingdom</td>\n",
       "    </tr>\n",
       "    <tr>\n",
       "      <th>3</th>\n",
       "      <td>4</td>\n",
       "      <td>1</td>\n",
       "      <td>1</td>\n",
       "      <td>1</td>\n",
       "      <td>06/05/12</td>\n",
       "      <td>1</td>\n",
       "      <td>16:50</td>\n",
       "      <td>7</td>\n",
       "      <td>E08000035</td>\n",
       "      <td>6</td>\n",
       "      <td>...</td>\n",
       "      <td>Daylight: Street light present</td>\n",
       "      <td>Fine without high winds</td>\n",
       "      <td>Dry</td>\n",
       "      <td>Roadworks</td>\n",
       "      <td>None</td>\n",
       "      <td>1</td>\n",
       "      <td>Yes</td>\n",
       "      <td>England</td>\n",
       "      <td>TA20 3PT</td>\n",
       "      <td>United Kingdom</td>\n",
       "    </tr>\n",
       "    <tr>\n",
       "      <th>4</th>\n",
       "      <td>5</td>\n",
       "      <td>46</td>\n",
       "      <td>1</td>\n",
       "      <td>1</td>\n",
       "      <td>30/06/12</td>\n",
       "      <td>3</td>\n",
       "      <td>13:25</td>\n",
       "      <td>519</td>\n",
       "      <td>E10000031</td>\n",
       "      <td>3</td>\n",
       "      <td>...</td>\n",
       "      <td>Daylight: Street light present</td>\n",
       "      <td>Fine without high winds</td>\n",
       "      <td>Dry</td>\n",
       "      <td>None</td>\n",
       "      <td>None</td>\n",
       "      <td>1</td>\n",
       "      <td>No</td>\n",
       "      <td>England</td>\n",
       "      <td>DN20 0QF</td>\n",
       "      <td>United Kingdom</td>\n",
       "    </tr>\n",
       "  </tbody>\n",
       "</table>\n",
       "<p>5 rows × 27 columns</p>\n",
       "</div>"
      ],
      "text/plain": [
       "   Accident_ID  Police_Force  Number_of_Vehicles  Number_of_Casualties  \\\n",
       "0            1            34                   2                     1   \n",
       "1            2             5                   2                     1   \n",
       "2            3             1                   2                     1   \n",
       "3            4             1                   1                     1   \n",
       "4            5            46                   1                     1   \n",
       "\n",
       "       Date  Day_of_Week   Time  Local_Authority_(District)  \\\n",
       "0  19/12/12            7  13:20                         344   \n",
       "1  02/11/12            4   7:53                         102   \n",
       "2  02/11/12            4  16:00                         531   \n",
       "3  06/05/12            1  16:50                           7   \n",
       "4  30/06/12            3  13:25                         519   \n",
       "\n",
       "  Local_Authority_(Highway)  1st_Road_Class  ...  \\\n",
       "0                 E10000032               4  ...   \n",
       "1                 E09000026               3  ...   \n",
       "2                 E10000016               6  ...   \n",
       "3                 E08000035               6  ...   \n",
       "4                 E10000031               3  ...   \n",
       "\n",
       "                 Light_Conditions          Weather_Conditions  \\\n",
       "0  Daylight: Street light present     Fine without high winds   \n",
       "1  Daylight: Street light present  Raining without high winds   \n",
       "2  Daylight: Street light present     Fine without high winds   \n",
       "3  Daylight: Street light present     Fine without high winds   \n",
       "4  Daylight: Street light present     Fine without high winds   \n",
       "\n",
       "   Road_Surface_Conditions  Special_Conditions_at_Site  Carriageway_Hazards  \\\n",
       "0                      Dry                Ol or diesel                 None   \n",
       "1                      Dry                        None                 None   \n",
       "2                      Dry                        None                 None   \n",
       "3                      Dry                   Roadworks                 None   \n",
       "4                      Dry                        None                 None   \n",
       "\n",
       "  Urban_or_Rural_Area Did_Police_Officer_Attend_Scene_of_Accident    state  \\\n",
       "0                   1                                         Yes  England   \n",
       "1                   1                                          No  England   \n",
       "2                   1                                          No  England   \n",
       "3                   1                                         Yes  England   \n",
       "4                   1                                          No  England   \n",
       "\n",
       "   postcode         country  \n",
       "0   OX3 9UP  United Kingdom  \n",
       "1   S35 4EZ  United Kingdom  \n",
       "2  BN21 2XR  United Kingdom  \n",
       "3  TA20 3PT  United Kingdom  \n",
       "4  DN20 0QF  United Kingdom  \n",
       "\n",
       "[5 rows x 27 columns]"
      ]
     },
     "execution_count": 5,
     "metadata": {},
     "output_type": "execute_result"
    }
   ],
   "source": [
    "df.head()"
   ]
  },
  {
   "cell_type": "code",
   "execution_count": 6,
   "id": "90aa51c5",
   "metadata": {},
   "outputs": [
    {
     "data": {
      "text/html": [
       "<div>\n",
       "<style scoped>\n",
       "    .dataframe tbody tr th:only-of-type {\n",
       "        vertical-align: middle;\n",
       "    }\n",
       "\n",
       "    .dataframe tbody tr th {\n",
       "        vertical-align: top;\n",
       "    }\n",
       "\n",
       "    .dataframe thead th {\n",
       "        text-align: right;\n",
       "    }\n",
       "</style>\n",
       "<table border=\"1\" class=\"dataframe\">\n",
       "  <thead>\n",
       "    <tr style=\"text-align: right;\">\n",
       "      <th></th>\n",
       "      <th>Accident_ID</th>\n",
       "      <th>Police_Force</th>\n",
       "      <th>Number_of_Vehicles</th>\n",
       "      <th>Number_of_Casualties</th>\n",
       "      <th>Day_of_Week</th>\n",
       "      <th>Local_Authority_(District)</th>\n",
       "      <th>1st_Road_Class</th>\n",
       "      <th>1st_Road_Number</th>\n",
       "      <th>Speed_limit</th>\n",
       "      <th>2nd_Road_Class</th>\n",
       "      <th>2nd_Road_Number</th>\n",
       "      <th>Urban_or_Rural_Area</th>\n",
       "    </tr>\n",
       "  </thead>\n",
       "  <tbody>\n",
       "    <tr>\n",
       "      <th>count</th>\n",
       "      <td>478741.000000</td>\n",
       "      <td>478741.000000</td>\n",
       "      <td>478741.000000</td>\n",
       "      <td>478741.000000</td>\n",
       "      <td>478741.000000</td>\n",
       "      <td>478741.000000</td>\n",
       "      <td>478741.000000</td>\n",
       "      <td>478741.000000</td>\n",
       "      <td>478741.000000</td>\n",
       "      <td>478741.000000</td>\n",
       "      <td>478741.0</td>\n",
       "      <td>478741.000000</td>\n",
       "    </tr>\n",
       "    <tr>\n",
       "      <th>mean</th>\n",
       "      <td>299892.954673</td>\n",
       "      <td>31.610178</td>\n",
       "      <td>1.745695</td>\n",
       "      <td>1.463528</td>\n",
       "      <td>4.367898</td>\n",
       "      <td>357.457132</td>\n",
       "      <td>4.381542</td>\n",
       "      <td>946.663375</td>\n",
       "      <td>37.035976</td>\n",
       "      <td>2.430068</td>\n",
       "      <td>0.0</td>\n",
       "      <td>1.402050</td>\n",
       "    </tr>\n",
       "    <tr>\n",
       "      <th>std</th>\n",
       "      <td>173261.274950</td>\n",
       "      <td>24.941660</td>\n",
       "      <td>0.626458</td>\n",
       "      <td>0.816019</td>\n",
       "      <td>1.872983</td>\n",
       "      <td>256.530105</td>\n",
       "      <td>1.369579</td>\n",
       "      <td>1730.926876</td>\n",
       "      <td>12.854299</td>\n",
       "      <td>3.268563</td>\n",
       "      <td>0.0</td>\n",
       "      <td>0.490313</td>\n",
       "    </tr>\n",
       "    <tr>\n",
       "      <th>min</th>\n",
       "      <td>1.000000</td>\n",
       "      <td>1.000000</td>\n",
       "      <td>1.000000</td>\n",
       "      <td>1.000000</td>\n",
       "      <td>1.000000</td>\n",
       "      <td>1.000000</td>\n",
       "      <td>1.000000</td>\n",
       "      <td>0.000000</td>\n",
       "      <td>20.000000</td>\n",
       "      <td>-1.000000</td>\n",
       "      <td>0.0</td>\n",
       "      <td>1.000000</td>\n",
       "    </tr>\n",
       "    <tr>\n",
       "      <th>25%</th>\n",
       "      <td>149718.000000</td>\n",
       "      <td>12.000000</td>\n",
       "      <td>1.000000</td>\n",
       "      <td>1.000000</td>\n",
       "      <td>3.000000</td>\n",
       "      <td>103.000000</td>\n",
       "      <td>3.000000</td>\n",
       "      <td>10.000000</td>\n",
       "      <td>30.000000</td>\n",
       "      <td>-1.000000</td>\n",
       "      <td>0.0</td>\n",
       "      <td>1.000000</td>\n",
       "    </tr>\n",
       "    <tr>\n",
       "      <th>50%</th>\n",
       "      <td>299791.000000</td>\n",
       "      <td>33.000000</td>\n",
       "      <td>2.000000</td>\n",
       "      <td>1.000000</td>\n",
       "      <td>5.000000</td>\n",
       "      <td>314.000000</td>\n",
       "      <td>4.000000</td>\n",
       "      <td>336.000000</td>\n",
       "      <td>30.000000</td>\n",
       "      <td>3.000000</td>\n",
       "      <td>0.0</td>\n",
       "      <td>1.000000</td>\n",
       "    </tr>\n",
       "    <tr>\n",
       "      <th>75%</th>\n",
       "      <td>449990.000000</td>\n",
       "      <td>45.000000</td>\n",
       "      <td>2.000000</td>\n",
       "      <td>2.000000</td>\n",
       "      <td>6.000000</td>\n",
       "      <td>521.000000</td>\n",
       "      <td>6.000000</td>\n",
       "      <td>569.000000</td>\n",
       "      <td>40.000000</td>\n",
       "      <td>6.000000</td>\n",
       "      <td>0.0</td>\n",
       "      <td>2.000000</td>\n",
       "    </tr>\n",
       "    <tr>\n",
       "      <th>max</th>\n",
       "      <td>599999.000000</td>\n",
       "      <td>98.000000</td>\n",
       "      <td>4.000000</td>\n",
       "      <td>5.000000</td>\n",
       "      <td>7.000000</td>\n",
       "      <td>941.000000</td>\n",
       "      <td>6.000000</td>\n",
       "      <td>9832.000000</td>\n",
       "      <td>70.000000</td>\n",
       "      <td>6.000000</td>\n",
       "      <td>0.0</td>\n",
       "      <td>2.000000</td>\n",
       "    </tr>\n",
       "  </tbody>\n",
       "</table>\n",
       "</div>"
      ],
      "text/plain": [
       "         Accident_ID   Police_Force  Number_of_Vehicles  Number_of_Casualties  \\\n",
       "count  478741.000000  478741.000000       478741.000000         478741.000000   \n",
       "mean   299892.954673      31.610178            1.745695              1.463528   \n",
       "std    173261.274950      24.941660            0.626458              0.816019   \n",
       "min         1.000000       1.000000            1.000000              1.000000   \n",
       "25%    149718.000000      12.000000            1.000000              1.000000   \n",
       "50%    299791.000000      33.000000            2.000000              1.000000   \n",
       "75%    449990.000000      45.000000            2.000000              2.000000   \n",
       "max    599999.000000      98.000000            4.000000              5.000000   \n",
       "\n",
       "         Day_of_Week  Local_Authority_(District)  1st_Road_Class  \\\n",
       "count  478741.000000               478741.000000   478741.000000   \n",
       "mean        4.367898                  357.457132        4.381542   \n",
       "std         1.872983                  256.530105        1.369579   \n",
       "min         1.000000                    1.000000        1.000000   \n",
       "25%         3.000000                  103.000000        3.000000   \n",
       "50%         5.000000                  314.000000        4.000000   \n",
       "75%         6.000000                  521.000000        6.000000   \n",
       "max         7.000000                  941.000000        6.000000   \n",
       "\n",
       "       1st_Road_Number    Speed_limit  2nd_Road_Class  2nd_Road_Number  \\\n",
       "count    478741.000000  478741.000000   478741.000000         478741.0   \n",
       "mean        946.663375      37.035976        2.430068              0.0   \n",
       "std        1730.926876      12.854299        3.268563              0.0   \n",
       "min           0.000000      20.000000       -1.000000              0.0   \n",
       "25%          10.000000      30.000000       -1.000000              0.0   \n",
       "50%         336.000000      30.000000        3.000000              0.0   \n",
       "75%         569.000000      40.000000        6.000000              0.0   \n",
       "max        9832.000000      70.000000        6.000000              0.0   \n",
       "\n",
       "       Urban_or_Rural_Area  \n",
       "count        478741.000000  \n",
       "mean              1.402050  \n",
       "std               0.490313  \n",
       "min               1.000000  \n",
       "25%               1.000000  \n",
       "50%               1.000000  \n",
       "75%               2.000000  \n",
       "max               2.000000  "
      ]
     },
     "execution_count": 6,
     "metadata": {},
     "output_type": "execute_result"
    }
   ],
   "source": [
    "df.describe()"
   ]
  },
  {
   "cell_type": "code",
   "execution_count": 7,
   "id": "1ad254ba",
   "metadata": {},
   "outputs": [
    {
     "data": {
      "text/plain": [
       "<matplotlib.collections.PathCollection at 0x2255c0ec220>"
      ]
     },
     "execution_count": 7,
     "metadata": {},
     "output_type": "execute_result"
    },
    {
     "data": {
      "image/png": "[encoded data removed]",
      "text/plain": [
       "<Figure size 432x288 with 1 Axes>"
      ]
     },
     "metadata": {
      "needs_background": "light"
     },
     "output_type": "display_data"
    }
   ],
   "source": [
    "plt.scatter(df['Accident_ID'],df['Number_of_Casualties'])"
   ]
  },
  {
   "cell_type": "markdown",
   "id": "622468fb",
   "metadata": {},
   "source": [
    "# Accident_ID vs Police_Force"
   ]
  },
  {
   "cell_type": "code",
   "execution_count": 8,
   "id": "2a60dea0",
   "metadata": {},
   "outputs": [
    {
     "data": {
      "text/plain": [
       "<matplotlib.collections.PathCollection at 0x2255deca7f0>"
      ]
     },
     "execution_count": 8,
     "metadata": {},
     "output_type": "execute_result"
    },
    {
     "data": {
      "image/png": "[encoded data removed]",
      "text/plain": [
       "<Figure size 432x288 with 1 Axes>"
      ]
     },
     "metadata": {
      "needs_background": "light"
     },
     "output_type": "display_data"
    }
   ],
   "source": [
    "plt.scatter(df['Accident_ID'],df['Police_Force'])"
   ]
  },
  {
   "cell_type": "code",
   "execution_count": 9,
   "id": "288b7ef2",
   "metadata": {},
   "outputs": [],
   "source": [
    "x = df[['Local_Authority_(District)','Number_of_Casualties']]\n",
    "y = df['Police_Force']"
   ]
  },
  {
   "cell_type": "code",
   "execution_count": 10,
   "id": "ca771b5e",
   "metadata": {},
   "outputs": [
    {
     "data": {
      "text/html": [
       "<div>\n",
       "<style scoped>\n",
       "    .dataframe tbody tr th:only-of-type {\n",
       "        vertical-align: middle;\n",
       "    }\n",
       "\n",
       "    .dataframe tbody tr th {\n",
       "        vertical-align: top;\n",
       "    }\n",
       "\n",
       "    .dataframe thead th {\n",
       "        text-align: right;\n",
       "    }\n",
       "</style>\n",
       "<table border=\"1\" class=\"dataframe\">\n",
       "  <thead>\n",
       "    <tr style=\"text-align: right;\">\n",
       "      <th></th>\n",
       "      <th>Local_Authority_(District)</th>\n",
       "      <th>Number_of_Casualties</th>\n",
       "    </tr>\n",
       "  </thead>\n",
       "  <tbody>\n",
       "    <tr>\n",
       "      <th>0</th>\n",
       "      <td>344</td>\n",
       "      <td>1</td>\n",
       "    </tr>\n",
       "    <tr>\n",
       "      <th>1</th>\n",
       "      <td>102</td>\n",
       "      <td>1</td>\n",
       "    </tr>\n",
       "    <tr>\n",
       "      <th>2</th>\n",
       "      <td>531</td>\n",
       "      <td>1</td>\n",
       "    </tr>\n",
       "    <tr>\n",
       "      <th>3</th>\n",
       "      <td>7</td>\n",
       "      <td>1</td>\n",
       "    </tr>\n",
       "    <tr>\n",
       "      <th>4</th>\n",
       "      <td>519</td>\n",
       "      <td>1</td>\n",
       "    </tr>\n",
       "    <tr>\n",
       "      <th>...</th>\n",
       "      <td>...</td>\n",
       "      <td>...</td>\n",
       "    </tr>\n",
       "    <tr>\n",
       "      <th>478736</th>\n",
       "      <td>199</td>\n",
       "      <td>1</td>\n",
       "    </tr>\n",
       "    <tr>\n",
       "      <th>478737</th>\n",
       "      <td>211</td>\n",
       "      <td>1</td>\n",
       "    </tr>\n",
       "    <tr>\n",
       "      <th>478738</th>\n",
       "      <td>80</td>\n",
       "      <td>4</td>\n",
       "    </tr>\n",
       "    <tr>\n",
       "      <th>478739</th>\n",
       "      <td>321</td>\n",
       "      <td>1</td>\n",
       "    </tr>\n",
       "    <tr>\n",
       "      <th>478740</th>\n",
       "      <td>23</td>\n",
       "      <td>1</td>\n",
       "    </tr>\n",
       "  </tbody>\n",
       "</table>\n",
       "<p>478741 rows × 2 columns</p>\n",
       "</div>"
      ],
      "text/plain": [
       "        Local_Authority_(District)  Number_of_Casualties\n",
       "0                              344                     1\n",
       "1                              102                     1\n",
       "2                              531                     1\n",
       "3                                7                     1\n",
       "4                              519                     1\n",
       "...                            ...                   ...\n",
       "478736                         199                     1\n",
       "478737                         211                     1\n",
       "478738                          80                     4\n",
       "478739                         321                     1\n",
       "478740                          23                     1\n",
       "\n",
       "[478741 rows x 2 columns]"
      ]
     },
     "execution_count": 10,
     "metadata": {},
     "output_type": "execute_result"
    }
   ],
   "source": [
    "x"
   ]
  },
  {
   "cell_type": "code",
   "execution_count": 11,
   "id": "e70a089c",
   "metadata": {},
   "outputs": [
    {
     "data": {
      "text/plain": [
       "0         34\n",
       "1          5\n",
       "2          1\n",
       "3          1\n",
       "4         46\n",
       "          ..\n",
       "478736    13\n",
       "478737    13\n",
       "478738     6\n",
       "478739    33\n",
       "478740     1\n",
       "Name: Police_Force, Length: 478741, dtype: int64"
      ]
     },
     "execution_count": 11,
     "metadata": {},
     "output_type": "execute_result"
    }
   ],
   "source": [
    "y"
   ]
  },
  {
   "cell_type": "code",
   "execution_count": 12,
   "id": "e68372d4",
   "metadata": {},
   "outputs": [],
   "source": [
    "from sklearn.model_selection import train_test_split"
   ]
  },
  {
   "cell_type": "code",
   "execution_count": 13,
   "id": "e994085f",
   "metadata": {},
   "outputs": [],
   "source": [
    "x_train,x_test,y_train,y_test = train_test_split(x,y,test_size=0.2)"
   ]
  },
  {
   "cell_type": "code",
   "execution_count": 14,
   "id": "8cb90a9c",
   "metadata": {},
   "outputs": [
    {
     "data": {
      "text/html": [
       "<div>\n",
       "<style scoped>\n",
       "    .dataframe tbody tr th:only-of-type {\n",
       "        vertical-align: middle;\n",
       "    }\n",
       "\n",
       "    .dataframe tbody tr th {\n",
       "        vertical-align: top;\n",
       "    }\n",
       "\n",
       "    .dataframe thead th {\n",
       "        text-align: right;\n",
       "    }\n",
       "</style>\n",
       "<table border=\"1\" class=\"dataframe\">\n",
       "  <thead>\n",
       "    <tr style=\"text-align: right;\">\n",
       "      <th></th>\n",
       "      <th>Local_Authority_(District)</th>\n",
       "      <th>Number_of_Casualties</th>\n",
       "    </tr>\n",
       "  </thead>\n",
       "  <tbody>\n",
       "    <tr>\n",
       "      <th>435330</th>\n",
       "      <td>89</td>\n",
       "      <td>1</td>\n",
       "    </tr>\n",
       "    <tr>\n",
       "      <th>67209</th>\n",
       "      <td>610</td>\n",
       "      <td>1</td>\n",
       "    </tr>\n",
       "    <tr>\n",
       "      <th>439603</th>\n",
       "      <td>932</td>\n",
       "      <td>3</td>\n",
       "    </tr>\n",
       "    <tr>\n",
       "      <th>204295</th>\n",
       "      <td>9</td>\n",
       "      <td>2</td>\n",
       "    </tr>\n",
       "    <tr>\n",
       "      <th>425291</th>\n",
       "      <td>312</td>\n",
       "      <td>1</td>\n",
       "    </tr>\n",
       "    <tr>\n",
       "      <th>...</th>\n",
       "      <td>...</td>\n",
       "      <td>...</td>\n",
       "    </tr>\n",
       "    <tr>\n",
       "      <th>395370</th>\n",
       "      <td>141</td>\n",
       "      <td>5</td>\n",
       "    </tr>\n",
       "    <tr>\n",
       "      <th>133147</th>\n",
       "      <td>918</td>\n",
       "      <td>1</td>\n",
       "    </tr>\n",
       "    <tr>\n",
       "      <th>25003</th>\n",
       "      <td>208</td>\n",
       "      <td>3</td>\n",
       "    </tr>\n",
       "    <tr>\n",
       "      <th>306156</th>\n",
       "      <td>91</td>\n",
       "      <td>1</td>\n",
       "    </tr>\n",
       "    <tr>\n",
       "      <th>59493</th>\n",
       "      <td>25</td>\n",
       "      <td>2</td>\n",
       "    </tr>\n",
       "  </tbody>\n",
       "</table>\n",
       "<p>382992 rows × 2 columns</p>\n",
       "</div>"
      ],
      "text/plain": [
       "        Local_Authority_(District)  Number_of_Casualties\n",
       "435330                          89                     1\n",
       "67209                          610                     1\n",
       "439603                         932                     3\n",
       "204295                           9                     2\n",
       "425291                         312                     1\n",
       "...                            ...                   ...\n",
       "395370                         141                     5\n",
       "133147                         918                     1\n",
       "25003                          208                     3\n",
       "306156                          91                     1\n",
       "59493                           25                     2\n",
       "\n",
       "[382992 rows x 2 columns]"
      ]
     },
     "execution_count": 14,
     "metadata": {},
     "output_type": "execute_result"
    }
   ],
   "source": [
    "x_train"
   ]
  },
  {
   "cell_type": "code",
   "execution_count": 15,
   "id": "4a3db69f",
   "metadata": {},
   "outputs": [
    {
     "data": {
      "text/plain": [
       "95749"
      ]
     },
     "execution_count": 15,
     "metadata": {},
     "output_type": "execute_result"
    }
   ],
   "source": [
    "len(x_test)"
   ]
  },
  {
   "cell_type": "code",
   "execution_count": 16,
   "id": "d25bab4a",
   "metadata": {},
   "outputs": [
    {
     "data": {
      "text/plain": [
       "215176     1\n",
       "170569    35\n",
       "327971    51\n",
       "466493     1\n",
       "336993     5\n",
       "          ..\n",
       "53882     43\n",
       "406283    16\n",
       "162230    21\n",
       "291486    53\n",
       "216073    14\n",
       "Name: Police_Force, Length: 95749, dtype: int64"
      ]
     },
     "execution_count": 16,
     "metadata": {},
     "output_type": "execute_result"
    }
   ],
   "source": [
    "y_test"
   ]
  },
  {
   "cell_type": "code",
   "execution_count": 17,
   "id": "4fa96ae3",
   "metadata": {},
   "outputs": [
    {
     "data": {
      "text/plain": [
       "(478741, 27)"
      ]
     },
     "execution_count": 17,
     "metadata": {},
     "output_type": "execute_result"
    }
   ],
   "source": [
    "df.shape"
   ]
  },
  {
   "cell_type": "code",
   "execution_count": 35,
   "id": "d41344fd",
   "metadata": {},
   "outputs": [
    {
     "data": {
      "text/plain": [
       "<matplotlib.collections.PathCollection at 0x22569709dc0>"
      ]
     },
     "execution_count": 35,
     "metadata": {},
     "output_type": "execute_result"
    },
    {
     "data": {
      "image/png": "[encoded data removed]",
      "text/plain": [
       "<Figure size 432x288 with 1 Axes>"
      ]
     },
     "metadata": {
      "needs_background": "light"
     },
     "output_type": "display_data"
    }
   ],
   "source": [
    "plt.scatter(df['country'],df['Number_of_Casualties'])"
   ]
  },
  {
   "cell_type": "code",
   "execution_count": 38,
   "id": "e049ff42",
   "metadata": {},
   "outputs": [],
   "source": [
    "import matplotlib.pyplot as plt\n",
    "import numpy as np\n",
    "from matplotlib import style"
   ]
  },
  {
   "cell_type": "code",
   "execution_count": null,
   "id": "2076774b",
   "metadata": {},
   "outputs": [],
   "source": [
    "plt.pie(df['Police_Force'],df['Number_of_Casualties'])"
   ]
  },
  {
   "cell_type": "code",
   "execution_count": null,
   "id": "68d1035c",
   "metadata": {},
   "outputs": [],
   "source": []
  },
  {
   "cell_type": "code",
   "execution_count": null,
   "id": "e05bbfa9",
   "metadata": {},
   "outputs": [],
   "source": []
  }
 ],
 "metadata": {
  "kernelspec": {
   "display_name": "Python 3 (ipykernel)",
   "language": "python",
   "name": "python3"
  },
  "language_info": {
   "codemirror_mode": {
    "name": "ipython",
    "version": 3
   },
   "file_extension": ".py",
   "mimetype": "text/x-python",
   "name": "python",
   "nbconvert_exporter": "python",
   "pygments_lexer": "ipython3",
   "version": "3.9.12"
  }
 },
 "nbformat": 4,
 "nbformat_minor": 5
}
